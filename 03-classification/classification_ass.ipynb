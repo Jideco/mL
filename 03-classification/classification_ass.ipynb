{
 "cells": [
  {
   "cell_type": "markdown",
   "id": "ad23b3bc",
   "metadata": {},
   "source": [
    "## Classification practice"
   ]
  },
  {
   "cell_type": "code",
   "execution_count": null,
   "id": "ddf9df0f",
   "metadata": {},
   "outputs": [],
   "source": [
    "import pandas as pd\n",
    "import numpy as np\n",
    "import os\n",
    "\n",
    "import matplotlib.pyplot as plt"
   ]
  },
  {
   "cell_type": "code",
   "execution_count": null,
   "id": "83cd9457",
   "metadata": {},
   "outputs": [],
   "source": [
    "os.system(\"wget https://raw.githubusercontent.com/alexeygrigorev/datasets/master/course_lead_scoring.csv\")"
   ]
  },
  {
   "cell_type": "markdown",
   "id": "b3f3817a",
   "metadata": {},
   "source": [
    "## Data Preparation\n",
    "Download the data, read it with pandas\n",
    "Look at the data\n",
    "Make column names and values look uniform\n",
    "Check if all the columns read correctly\n",
    "Check if the churn variable needs any preparation.\n",
    "\"lead scoring dataset Bank Marketing dataset.\""
   ]
  },
  {
   "cell_type": "code",
   "execution_count": null,
   "id": "552faba1",
   "metadata": {},
   "outputs": [],
   "source": [
    "df = pd.read_csv(\"WA_Fn-UseC_-Telco-Customer-Churn.csv\")\n",
    "df.head()"
   ]
  }
 ],
 "metadata": {
  "language_info": {
   "name": "python"
  }
 },
 "nbformat": 4,
 "nbformat_minor": 5
}
